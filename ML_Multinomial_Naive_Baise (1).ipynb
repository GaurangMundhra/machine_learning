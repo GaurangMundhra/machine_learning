{
  "nbformat": 4,
  "nbformat_minor": 0,
  "metadata": {
    "colab": {
      "provenance": []
    },
    "kernelspec": {
      "name": "python3",
      "display_name": "Python 3"
    },
    "language_info": {
      "name": "python"
    }
  },
  "cells": [
    {
      "cell_type": "code",
      "execution_count": 17,
      "metadata": {
        "colab": {
          "base_uri": "https://localhost:8080/"
        },
        "id": "BFsPjTHpXbLQ",
        "outputId": "35bc49f3-8636-4ff0-dd05-7f0430d7b175"
      },
      "outputs": [
        {
          "output_type": "stream",
          "name": "stdout",
          "text": [
            "\n",
            "Total Vocabulary Size: 7735\n",
            "\n",
            "Sample Vocabulary (first 30 words): ['00' '000' '000pes' '008704050406' '0089' '0121' '01223585236'\n",
            " '0125698789' '02' '0207' '02072069400' '02073162414' '02085076972' '021'\n",
            " '03' '04' '0430' '05' '050703' '0578' '06' '07' '07046744435'\n",
            " '07090201529' '07090298926' '07099833605' '07123456789' '0721072'\n",
            " '07732584351' '07734396839']\n",
            "\n",
            "TF-IDF Matrix (first 5 messages, first 20 words):\n",
            "         00  000  000pes  008704050406  0089  0121  01223585236  0125698789  \\\n",
            "0  0.000000  0.0     0.0           0.0   0.0   0.0          0.0         0.0   \n",
            "1  0.243404  0.0     0.0           0.0   0.0   0.0          0.0         0.0   \n",
            "2  0.000000  0.0     0.0           0.0   0.0   0.0          0.0         0.0   \n",
            "3  0.000000  0.0     0.0           0.0   0.0   0.0          0.0         0.0   \n",
            "4  0.000000  0.0     0.0           0.0   0.0   0.0          0.0         0.0   \n",
            "\n",
            "    02  0207  02072069400  02073162414  02085076972  021   03       04  0430  \\\n",
            "0  0.0   0.0          0.0          0.0          0.0  0.0  0.0  0.00000   0.0   \n",
            "1  0.0   0.0          0.0          0.0          0.0  0.0  0.0  0.00000   0.0   \n",
            "2  0.0   0.0          0.0          0.0          0.0  0.0  0.0  0.00000   0.0   \n",
            "3  0.0   0.0          0.0          0.0          0.0  0.0  0.0  0.00000   0.0   \n",
            "4  0.0   0.0          0.0          0.0          0.0  0.0  0.0  0.23253   0.0   \n",
            "\n",
            "    05  050703  0578  \n",
            "0  0.0     0.0   0.0  \n",
            "1  0.0     0.0   0.0  \n",
            "2  0.0     0.0   0.0  \n",
            "3  0.0     0.0   0.0  \n",
            "4  0.0     0.0   0.0  \n",
            "\n",
            "Model Evaluation:\n",
            "Accuracy: 0.9623318385650225\n",
            "\n",
            "Confusion Matrix:\n",
            " [[965   0]\n",
            " [ 42 108]]\n",
            "\n",
            "Classification Report:\n",
            "               precision    recall  f1-score   support\n",
            "\n",
            "         ham       0.96      1.00      0.98       965\n",
            "        spam       1.00      0.72      0.84       150\n",
            "\n",
            "    accuracy                           0.96      1115\n",
            "   macro avg       0.98      0.86      0.91      1115\n",
            "weighted avg       0.96      0.96      0.96      1115\n",
            "\n"
          ]
        }
      ],
      "source": [
        "import pandas as pd\n",
        "from sklearn.model_selection import train_test_split\n",
        "from sklearn.feature_extraction.text import TfidfVectorizer\n",
        "from sklearn.naive_bayes import MultinomialNB\n",
        "from sklearn.metrics import accuracy_score, confusion_matrix, classification_report\n",
        "\n",
        "df = pd.read_csv(\"/content/spam.csv\", encoding='latin-1')\n",
        "df = df[['v1', 'v2']]\n",
        "df.columns = ['label', 'message']\n",
        "\n",
        "\n",
        "\n",
        "X_train, X_test, y_train, y_test = train_test_split(\n",
        "    df['message'], df['label'], test_size=0.2, random_state=42\n",
        ")\n",
        "\n",
        "\n",
        "\n",
        "vectorizer = TfidfVectorizer()\n",
        "\n",
        "X_train_tfidf = vectorizer.fit_transform(X_train)\n",
        "\n",
        "X_test_tfidf = vectorizer.transform(X_test)\n",
        "\n",
        "\n",
        "\n",
        "vocab = vectorizer.get_feature_names_out()\n",
        "print(\"\\nTotal Vocabulary Size:\", len(vocab))\n",
        "print(\"\\nSample Vocabulary (first 30 words):\", vocab[:30])\n",
        "\n",
        "\n",
        "\n",
        "tfidf_matrix = pd.DataFrame(\n",
        "    X_train_tfidf[:5].toarray(),\n",
        "    columns=vocab\n",
        ")\n",
        "print(\"\\nTF-IDF Matrix (first 5 messages, first 20 words):\")\n",
        "print(tfidf_matrix.iloc[:, :20])\n",
        "\n",
        "\n",
        "\n",
        "model = MultinomialNB()\n",
        "model.fit(X_train_tfidf, y_train)\n",
        "\n",
        "\n",
        "\n",
        "y_pred = model.predict(X_test_tfidf)\n",
        "\n",
        "\n",
        "\n",
        "print(\"\\nModel Evaluation:\")\n",
        "print(\"Accuracy:\", accuracy_score(y_test, y_pred))\n",
        "print(\"\\nConfusion Matrix:\\n\", confusion_matrix(y_test, y_pred))\n",
        "print(\"\\nClassification Report:\\n\", classification_report(y_test, y_pred))\n"
      ]
    },
    {
      "cell_type": "code",
      "source": [
        "test_message = [\"Congratulations! You have won a free ticket to Bahamas. Text WIN to 12345\"]\n",
        "test_message_counts = vectorizer.transform(test_message)\n",
        "prediction = model.predict(test_message_counts)\n",
        "print(\"test message:\", test_message[0])\n",
        "print(\"predicted label:\", prediction[0])"
      ],
      "metadata": {
        "colab": {
          "base_uri": "https://localhost:8080/"
        },
        "id": "Sa6r8IBRcrZr",
        "outputId": "5420ff01-8189-453c-ca84-da5bf56cd8d9"
      },
      "execution_count": 18,
      "outputs": [
        {
          "output_type": "stream",
          "name": "stdout",
          "text": [
            "test message: Congratulations! You have won a free ticket to Bahamas. Text WIN to 12345\n",
            "predicted label: spam\n"
          ]
        }
      ]
    },
    {
      "cell_type": "code",
      "source": [
        "test_message = [\"Hey, are we still meeting for lunch tomorrow at 1 pm?\"]\n",
        "test_message_counts = vectorizer.transform(test_message)\n",
        "prediction = model.predict(test_message_counts)\n",
        "print(\"test message:\", test_message[0])\n",
        "print(\"predicted label:\", prediction[0])"
      ],
      "metadata": {
        "colab": {
          "base_uri": "https://localhost:8080/"
        },
        "id": "ncpws7fKcshG",
        "outputId": "920b0c98-c9fa-4b34-a102-63b4ba5aca18"
      },
      "execution_count": 19,
      "outputs": [
        {
          "output_type": "stream",
          "name": "stdout",
          "text": [
            "test message: Hey, are we still meeting for lunch tomorrow at 1 pm?\n",
            "predicted label: ham\n"
          ]
        }
      ]
    },
    {
      "cell_type": "code",
      "source": [],
      "metadata": {
        "id": "-Pdrur3Mda81"
      },
      "execution_count": null,
      "outputs": []
    }
  ]
}