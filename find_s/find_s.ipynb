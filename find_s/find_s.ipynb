{
 "cells": [
  {
   "cell_type": "code",
   "execution_count": 4,
   "id": "93717638",
   "metadata": {},
   "outputs": [
    {
     "name": "stdout",
     "output_type": "stream",
     "text": [
      "['sunny', 'warm', 'normal', 'strong', 'warm', 'same', 'yes']\n",
      "['sunny', 'warm', 'high', 'strong', 'warm', 'same', 'yes']\n",
      "['rainy', 'cold', 'high', 'strong', 'warm', 'change', 'no']\n",
      "['sunny', 'warm', 'high', 'strong', 'cool', 'change', 'yes']\n"
     ]
    }
   ],
   "source": [
    "import csv\n",
    "\n",
    "with open('enjoysport.csv', 'r') as file:\n",
    "    data = [row for row in csv.reader(file)]\n",
    "\n",
    "# Print the data (skip header)\n",
    "for row in data[1:]:\n",
    "    print(row)\n"
   ]
  },
  {
   "cell_type": "code",
   "execution_count": 7,
   "id": "f063ff69",
   "metadata": {},
   "outputs": [
    {
     "name": "stdout",
     "output_type": "stream",
     "text": [
      "Initial Hypothesis: ['?', '?', '?', '?', '?', '?']\n"
     ]
    },
    {
     "data": {
      "text/plain": [
       "6"
      ]
     },
     "execution_count": 7,
     "metadata": {},
     "output_type": "execute_result"
    }
   ],
   "source": [
    "num_attributes = len(data[0]) - 1\n",
    "hypothesis = ['?'] * num_attributes\n",
    "\n",
    "print(\"Initial Hypothesis:\", hypothesis)\n",
    "num_attributes\n"
   ]
  },
  {
   "cell_type": "code",
   "execution_count": 8,
   "id": "59a92a03",
   "metadata": {},
   "outputs": [
    {
     "name": "stdout",
     "output_type": "stream",
     "text": [
      "First positive instance: ['sunny', 'warm', 'normal', 'strong', 'warm', 'same', 'yes']\n",
      "Hypothesis after first positive instance: ['sunny', 'warm', 'normal', 'strong', 'warm', 'same']\n"
     ]
    }
   ],
   "source": [
    "for row in data[1:]:\n",
    "    if row[-1].lower() == 'yes':\n",
    "        hypothesis = row[:-1]  \n",
    "        print(\"First positive instance:\", row)\n",
    "        print(\"Hypothesis after first positive instance:\", hypothesis)\n",
    "        break\n"
   ]
  },
  {
   "cell_type": "code",
   "execution_count": 9,
   "id": "6b9e29fa",
   "metadata": {},
   "outputs": [
    {
     "name": "stdout",
     "output_type": "stream",
     "text": [
      "Updated Hypothesis: ['sunny', 'warm', 'normal', 'strong', 'warm', 'same']\n",
      "Updated Hypothesis: ['sunny', 'warm', '?', 'strong', 'warm', 'same']\n",
      "Updated Hypothesis: ['sunny', 'warm', '?', 'strong', '?', '?']\n"
     ]
    }
   ],
   "source": [
    "for row in data[1:]:\n",
    "    if row[-1].lower() == 'yes':\n",
    "        for i in range(num_attributes):\n",
    "            if hypothesis[i] != row[i]:\n",
    "                hypothesis[i] = '?'\n",
    "        print(\"Updated Hypothesis:\", hypothesis)\n"
   ]
  },
  {
   "cell_type": "code",
   "execution_count": 10,
   "id": "46148123",
   "metadata": {},
   "outputs": [
    {
     "name": "stdout",
     "output_type": "stream",
     "text": [
      "\n",
      "Final Hypothesis: ['sunny', 'warm', '?', 'strong', '?', '?']\n"
     ]
    }
   ],
   "source": [
    "print(\"\\nFinal Hypothesis:\", hypothesis)\n"
   ]
  }
 ],
 "metadata": {
  "kernelspec": {
   "display_name": "Python 3",
   "language": "python",
   "name": "python3"
  },
  "language_info": {
   "codemirror_mode": {
    "name": "ipython",
    "version": 3
   },
   "file_extension": ".py",
   "mimetype": "text/x-python",
   "name": "python",
   "nbconvert_exporter": "python",
   "pygments_lexer": "ipython3",
   "version": "3.9.13"
  }
 },
 "nbformat": 4,
 "nbformat_minor": 5
}
